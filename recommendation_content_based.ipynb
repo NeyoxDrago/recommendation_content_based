{
  "nbformat": 4,
  "nbformat_minor": 0,
  "metadata": {
    "colab": {
      "name": "recommendation_content_based.ipynb",
      "provenance": [],
      "collapsed_sections": [
        "ufhEX7yBHW-K"
      ],
      "toc_visible": true,
      "machine_shape": "hm"
    },
    "kernelspec": {
      "name": "python3",
      "display_name": "Python 3"
    },
    "accelerator": "GPU"
  },
  "cells": [
    {
      "cell_type": "code",
      "metadata": {
        "id": "Dwcy-2Q_S4-I",
        "colab_type": "code",
        "colab": {}
      },
      "source": [
        "# https://github.com/adsieg/text_similarity"
      ],
      "execution_count": 0,
      "outputs": []
    },
    {
      "cell_type": "code",
      "metadata": {
        "id": "rNCZA8TKc8MJ",
        "colab_type": "code",
        "colab": {}
      },
      "source": [
        "import pandas as pd\n",
        "import warnings\n",
        "warnings.filterwarnings(\"ignore\")\n",
        "from bs4 import BeautifulSoup as bs\n",
        "import numpy as np\n"
      ],
      "execution_count": 0,
      "outputs": []
    },
    {
      "cell_type": "code",
      "metadata": {
        "id": "fj4SbEbTekBn",
        "colab_type": "code",
        "colab": {}
      },
      "source": [
        "data = pd.read_csv(\"complete_data.csv\")"
      ],
      "execution_count": 0,
      "outputs": []
    },
    {
      "cell_type": "code",
      "metadata": {
        "id": "8FIHIXCrqQGN",
        "colab_type": "code",
        "outputId": "7df2c8ca-d0e7-4cdf-96f7-85cbd6f7d787",
        "colab": {
          "base_uri": "https://localhost:8080/",
          "height": 1000
        }
      },
      "source": [
        "data"
      ],
      "execution_count": 0,
      "outputs": [
        {
          "output_type": "execute_result",
          "data": {
            "text/html": [
              "<div>\n",
              "<style scoped>\n",
              "    .dataframe tbody tr th:only-of-type {\n",
              "        vertical-align: middle;\n",
              "    }\n",
              "\n",
              "    .dataframe tbody tr th {\n",
              "        vertical-align: top;\n",
              "    }\n",
              "\n",
              "    .dataframe thead th {\n",
              "        text-align: right;\n",
              "    }\n",
              "</style>\n",
              "<table border=\"1\" class=\"dataframe\">\n",
              "  <thead>\n",
              "    <tr style=\"text-align: right;\">\n",
              "      <th></th>\n",
              "      <th>ISBN</th>\n",
              "      <th>reviews</th>\n",
              "      <th>description</th>\n",
              "      <th>pages</th>\n",
              "      <th>popular_shelves</th>\n",
              "      <th>format</th>\n",
              "      <th>rating_5</th>\n",
              "      <th>rating_4</th>\n",
              "      <th>rating_3</th>\n",
              "      <th>rating_2</th>\n",
              "      <th>rating_1</th>\n",
              "      <th>rating_total_count</th>\n",
              "      <th>bookTitle</th>\n",
              "      <th>bookAuthor</th>\n",
              "      <th>yearOfPublication</th>\n",
              "      <th>publisher</th>\n",
              "      <th>imageUrlS</th>\n",
              "      <th>imageUrlM</th>\n",
              "      <th>imageUrlL</th>\n",
              "      <th>description_vector</th>\n",
              "    </tr>\n",
              "  </thead>\n",
              "  <tbody>\n",
              "    <tr>\n",
              "      <th>0</th>\n",
              "      <td>0195153448</td>\n",
              "      <td>1.0</td>\n",
              "      <td>Featuring the authors' extensive, clear, and f...</td>\n",
              "      <td>844.0</td>\n",
              "      <td>fantasy fiction</td>\n",
              "      <td>Paperback</td>\n",
              "      <td>465</td>\n",
              "      <td>425</td>\n",
              "      <td>248</td>\n",
              "      <td>31</td>\n",
              "      <td>11</td>\n",
              "      <td>1180</td>\n",
              "      <td>Classical Mythology</td>\n",
              "      <td>Mark P. O. Morford</td>\n",
              "      <td>2002</td>\n",
              "      <td>Oxford University Press</td>\n",
              "      <td>http://images.amazon.com/images/P/0195153448.0...</td>\n",
              "      <td>http://images.amazon.com/images/P/0195153448.0...</td>\n",
              "      <td>http://images.amazon.com/images/P/0195153448.0...</td>\n",
              "      <td>[ -36.9425597    80.509411     33.439935     3...</td>\n",
              "    </tr>\n",
              "    <tr>\n",
              "      <th>1</th>\n",
              "      <td>0425176428</td>\n",
              "      <td>128.0</td>\n",
              "      <td>Historians and inquisitive laymen alike love t...</td>\n",
              "      <td>395.0</td>\n",
              "      <td>fiction biography</td>\n",
              "      <td>Paperback</td>\n",
              "      <td>437</td>\n",
              "      <td>892</td>\n",
              "      <td>751</td>\n",
              "      <td>164</td>\n",
              "      <td>37</td>\n",
              "      <td>2281</td>\n",
              "      <td>What If?: The World's Foremost Military Histor...</td>\n",
              "      <td>Robert Cowley</td>\n",
              "      <td>2000</td>\n",
              "      <td>Berkley Publishing Group</td>\n",
              "      <td>http://images.amazon.com/images/P/0425176428.0...</td>\n",
              "      <td>http://images.amazon.com/images/P/0425176428.0...</td>\n",
              "      <td>http://images.amazon.com/images/P/0425176428.0...</td>\n",
              "      <td>[  2.125693    11.9565563   12.192848    -1.56...</td>\n",
              "    </tr>\n",
              "    <tr>\n",
              "      <th>2</th>\n",
              "      <td>0671870432</td>\n",
              "      <td>0.0</td>\n",
              "      <td>A former cop, now an attorney, falls into dang...</td>\n",
              "      <td>0.0</td>\n",
              "      <td>fiction</td>\n",
              "      <td>Audio Cassette</td>\n",
              "      <td>1702</td>\n",
              "      <td>2406</td>\n",
              "      <td>1980</td>\n",
              "      <td>456</td>\n",
              "      <td>164</td>\n",
              "      <td>6708</td>\n",
              "      <td>PLEADING GUILTY</td>\n",
              "      <td>Scott Turow</td>\n",
              "      <td>1993</td>\n",
              "      <td>Audioworks</td>\n",
              "      <td>http://images.amazon.com/images/P/0671870432.0...</td>\n",
              "      <td>http://images.amazon.com/images/P/0671870432.0...</td>\n",
              "      <td>http://images.amazon.com/images/P/0671870432.0...</td>\n",
              "      <td>[ 2.8186350e+00  9.3432200e-01  4.2583800e+00 ...</td>\n",
              "    </tr>\n",
              "    <tr>\n",
              "      <th>3</th>\n",
              "      <td>0679425608</td>\n",
              "      <td>4.0</td>\n",
              "      <td>For this rousing, revisionist history, the for...</td>\n",
              "      <td>317.0</td>\n",
              "      <td>fiction biography</td>\n",
              "      <td>Hardcover</td>\n",
              "      <td>1463</td>\n",
              "      <td>2859</td>\n",
              "      <td>2392</td>\n",
              "      <td>549</td>\n",
              "      <td>105</td>\n",
              "      <td>7368</td>\n",
              "      <td>Under the Black Flag: The Romance and the Real...</td>\n",
              "      <td>David Cordingly</td>\n",
              "      <td>1996</td>\n",
              "      <td>Random House</td>\n",
              "      <td>http://images.amazon.com/images/P/0679425608.0...</td>\n",
              "      <td>http://images.amazon.com/images/P/0679425608.0...</td>\n",
              "      <td>http://images.amazon.com/images/P/0679425608.0...</td>\n",
              "      <td>[ -2.7570391   10.504358     8.185092    -3.58...</td>\n",
              "    </tr>\n",
              "    <tr>\n",
              "      <th>4</th>\n",
              "      <td>0771074670</td>\n",
              "      <td>3.0</td>\n",
              "      <td>David Adams Richards’ Governor General’s Award...</td>\n",
              "      <td>232.0</td>\n",
              "      <td>fiction</td>\n",
              "      <td>Paperback</td>\n",
              "      <td>114</td>\n",
              "      <td>210</td>\n",
              "      <td>171</td>\n",
              "      <td>28</td>\n",
              "      <td>13</td>\n",
              "      <td>536</td>\n",
              "      <td>Nights Below Station Street</td>\n",
              "      <td>David Adams Richards</td>\n",
              "      <td>1988</td>\n",
              "      <td>Emblem Editions</td>\n",
              "      <td>http://images.amazon.com/images/P/0771074670.0...</td>\n",
              "      <td>http://images.amazon.com/images/P/0771074670.0...</td>\n",
              "      <td>http://images.amazon.com/images/P/0771074670.0...</td>\n",
              "      <td>[-7.32653000e-01  1.32759622e+01  1.77010740e+...</td>\n",
              "    </tr>\n",
              "    <tr>\n",
              "      <th>...</th>\n",
              "      <td>...</td>\n",
              "      <td>...</td>\n",
              "      <td>...</td>\n",
              "      <td>...</td>\n",
              "      <td>...</td>\n",
              "      <td>...</td>\n",
              "      <td>...</td>\n",
              "      <td>...</td>\n",
              "      <td>...</td>\n",
              "      <td>...</td>\n",
              "      <td>...</td>\n",
              "      <td>...</td>\n",
              "      <td>...</td>\n",
              "      <td>...</td>\n",
              "      <td>...</td>\n",
              "      <td>...</td>\n",
              "      <td>...</td>\n",
              "      <td>...</td>\n",
              "      <td>...</td>\n",
              "      <td>...</td>\n",
              "    </tr>\n",
              "    <tr>\n",
              "      <th>18568</th>\n",
              "      <td>0553268783</td>\n",
              "      <td>3.0</td>\n",
              "      <td>\"When John Cameron Butler was a child, he was ...</td>\n",
              "      <td>117.0</td>\n",
              "      <td>fiction</td>\n",
              "      <td>Paperback</td>\n",
              "      <td>738</td>\n",
              "      <td>1261</td>\n",
              "      <td>1390</td>\n",
              "      <td>582</td>\n",
              "      <td>289</td>\n",
              "      <td>4260</td>\n",
              "      <td>Light in the Forest</td>\n",
              "      <td>Coward Richter</td>\n",
              "      <td>1990</td>\n",
              "      <td>Starfire</td>\n",
              "      <td>http://images.amazon.com/images/P/0553268783.0...</td>\n",
              "      <td>http://images.amazon.com/images/P/0553268783.0...</td>\n",
              "      <td>http://images.amazon.com/images/P/0553268783.0...</td>\n",
              "      <td>[ 2.39450750e+00  8.01149070e+00  2.16788418e+...</td>\n",
              "    </tr>\n",
              "    <tr>\n",
              "      <th>18569</th>\n",
              "      <td>0449200531</td>\n",
              "      <td>5.0</td>\n",
              "      <td>Young physicist Jonathan Derry is given some m...</td>\n",
              "      <td>310.0</td>\n",
              "      <td>fiction</td>\n",
              "      <td>Mass Market Paperback</td>\n",
              "      <td>866</td>\n",
              "      <td>1396</td>\n",
              "      <td>953</td>\n",
              "      <td>120</td>\n",
              "      <td>22</td>\n",
              "      <td>3357</td>\n",
              "      <td>Twice Shy</td>\n",
              "      <td>Dick Francis</td>\n",
              "      <td>1983</td>\n",
              "      <td>Fawcett Books</td>\n",
              "      <td>http://images.amazon.com/images/P/0449200531.0...</td>\n",
              "      <td>http://images.amazon.com/images/P/0449200531.0...</td>\n",
              "      <td>http://images.amazon.com/images/P/0449200531.0...</td>\n",
              "      <td>[ -0.270086     3.178283     9.93671444 -11.35...</td>\n",
              "    </tr>\n",
              "    <tr>\n",
              "      <th>18570</th>\n",
              "      <td>0688094066</td>\n",
              "      <td>2.0</td>\n",
              "      <td>INVENTING THE MIDDLE AGES: The Lives, Works, a...</td>\n",
              "      <td>477.0</td>\n",
              "      <td>biography</td>\n",
              "      <td>Hardcover</td>\n",
              "      <td>112</td>\n",
              "      <td>146</td>\n",
              "      <td>99</td>\n",
              "      <td>37</td>\n",
              "      <td>14</td>\n",
              "      <td>408</td>\n",
              "      <td>Inventing the Middle Ages</td>\n",
              "      <td>Norman F Cantor</td>\n",
              "      <td>1991</td>\n",
              "      <td>Morrow, William Company In</td>\n",
              "      <td>http://images.amazon.com/images/P/0688094066.0...</td>\n",
              "      <td>http://images.amazon.com/images/P/0688094066.0...</td>\n",
              "      <td>http://images.amazon.com/images/P/0688094066.0...</td>\n",
              "      <td>[ 2.61585000e-01  3.88441390e+01  1.65979098e+...</td>\n",
              "    </tr>\n",
              "    <tr>\n",
              "      <th>18571</th>\n",
              "      <td>0440539811</td>\n",
              "      <td>736.0</td>\n",
              "      <td>It was a deadly mistake. Joseph Malik, editor ...</td>\n",
              "      <td>805.0</td>\n",
              "      <td>fiction fantasy</td>\n",
              "      <td>Paperback</td>\n",
              "      <td>5977</td>\n",
              "      <td>4222</td>\n",
              "      <td>2568</td>\n",
              "      <td>939</td>\n",
              "      <td>473</td>\n",
              "      <td>14179</td>\n",
              "      <td>The Illuminatus Trilogy: The Eye in the Pyrami...</td>\n",
              "      <td>Robert Shea</td>\n",
              "      <td>1984</td>\n",
              "      <td>Dell Publishing Company</td>\n",
              "      <td>http://images.amazon.com/images/P/0440539811.0...</td>\n",
              "      <td>http://images.amazon.com/images/P/0440539811.0...</td>\n",
              "      <td>http://images.amazon.com/images/P/0440539811.0...</td>\n",
              "      <td>[  4.5705684    5.93467443  16.598108   -17.15...</td>\n",
              "    </tr>\n",
              "    <tr>\n",
              "      <th>18572</th>\n",
              "      <td>0425163717</td>\n",
              "      <td>36.0</td>\n",
              "      <td>IN A FUTURE WHEN COMPUTER TECHNOLOGY BRINGS LO...</td>\n",
              "      <td>308.0</td>\n",
              "      <td>romance fantasy fiction</td>\n",
              "      <td>Mass Market Paperback</td>\n",
              "      <td>15873</td>\n",
              "      <td>11855</td>\n",
              "      <td>4369</td>\n",
              "      <td>409</td>\n",
              "      <td>84</td>\n",
              "      <td>32590</td>\n",
              "      <td>Holiday in Death</td>\n",
              "      <td>J. D. Robb</td>\n",
              "      <td>1998</td>\n",
              "      <td>Berkley Publishing Group</td>\n",
              "      <td>http://images.amazon.com/images/P/0425163717.0...</td>\n",
              "      <td>http://images.amazon.com/images/P/0425163717.0...</td>\n",
              "      <td>http://images.amazon.com/images/P/0425163717.0...</td>\n",
              "      <td>[ 4.15783500e+00  1.98380455e+01  2.49228840e+...</td>\n",
              "    </tr>\n",
              "  </tbody>\n",
              "</table>\n",
              "<p>18573 rows × 20 columns</p>\n",
              "</div>"
            ],
            "text/plain": [
              "             ISBN  ...                                 description_vector\n",
              "0      0195153448  ...  [ -36.9425597    80.509411     33.439935     3...\n",
              "1      0425176428  ...  [  2.125693    11.9565563   12.192848    -1.56...\n",
              "2      0671870432  ...  [ 2.8186350e+00  9.3432200e-01  4.2583800e+00 ...\n",
              "3      0679425608  ...  [ -2.7570391   10.504358     8.185092    -3.58...\n",
              "4      0771074670  ...  [-7.32653000e-01  1.32759622e+01  1.77010740e+...\n",
              "...           ...  ...                                                ...\n",
              "18568  0553268783  ...  [ 2.39450750e+00  8.01149070e+00  2.16788418e+...\n",
              "18569  0449200531  ...  [ -0.270086     3.178283     9.93671444 -11.35...\n",
              "18570  0688094066  ...  [ 2.61585000e-01  3.88441390e+01  1.65979098e+...\n",
              "18571  0440539811  ...  [  4.5705684    5.93467443  16.598108   -17.15...\n",
              "18572  0425163717  ...  [ 4.15783500e+00  1.98380455e+01  2.49228840e+...\n",
              "\n",
              "[18573 rows x 20 columns]"
            ]
          },
          "metadata": {
            "tags": []
          },
          "execution_count": 4
        }
      ]
    },
    {
      "cell_type": "markdown",
      "metadata": {
        "id": "GioO2_PBXyYj",
        "colab_type": "text"
      },
      "source": [
        "## Count Vectorizer\n"
      ]
    },
    {
      "cell_type": "code",
      "metadata": {
        "id": "bFXNrNikSS26",
        "colab_type": "code",
        "outputId": "8585d5fa-a245-4f6b-cbce-6fb7693a99b3",
        "colab": {
          "base_uri": "https://localhost:8080/",
          "height": 84
        }
      },
      "source": [
        "s1 = \"The Secretary greets President in Washington\"\n",
        "s2 = \"Obama is our President\"\n",
        "\n",
        "def cosine_distance_countvectorizer_method(s1, s2):\n",
        "    \n",
        "    # sentences to list\n",
        "    allsentences = [s1 , s2]\n",
        "    \n",
        "    # packages\n",
        "    from sklearn.feature_extraction.text import CountVectorizer\n",
        "    from scipy.spatial import distance\n",
        "    \n",
        "    # text to vector\n",
        "    vectorizer = CountVectorizer()\n",
        "    all_sentences_to_vector = vectorizer.fit_transform(allsentences)\n",
        "    # print(all_sentences_to_vector)\n",
        "    text_to_vector_v1 = all_sentences_to_vector.toarray()[0].tolist()\n",
        "    print(text_to_vector_v1)\n",
        "    text_to_vector_v2 = all_sentences_to_vector.toarray()[1].tolist()\n",
        "    print(text_to_vector_v2)\n",
        "    \n",
        "    # distance of similarity\n",
        "    cosine = distance.cosine(text_to_vector_v1, text_to_vector_v2)\n",
        "    print('Similarity of two sentences are equal to ',round((1-cosine)*100,2),'%')\n",
        "    print(\"Cosine value is : \",cosine)\n",
        "\n",
        "cosine_distance_countvectorizer_method(s1,s2)"
      ],
      "execution_count": 0,
      "outputs": [
        {
          "output_type": "stream",
          "text": [
            "[1, 1, 0, 0, 0, 1, 1, 1, 1]\n",
            "[0, 0, 1, 1, 1, 1, 0, 0, 0]\n",
            "Similarity of two sentences are equal to  20.41 %\n",
            "Cosine value is :  0.7958758547680684\n"
          ],
          "name": "stdout"
        }
      ]
    },
    {
      "cell_type": "code",
      "metadata": {
        "id": "GCvDZhLbX1rP",
        "colab_type": "code",
        "colab": {}
      },
      "source": [
        ""
      ],
      "execution_count": 0,
      "outputs": []
    },
    {
      "cell_type": "markdown",
      "metadata": {
        "id": "-o7XQMQrsfwt",
        "colab_type": "text"
      },
      "source": [
        "## Generate Vectors"
      ]
    },
    {
      "cell_type": "code",
      "metadata": {
        "id": "y0v6wBwCfy8F",
        "colab_type": "code",
        "outputId": "075d0626-d667-4cd5-d5af-64cd038198b1",
        "colab": {
          "base_uri": "https://localhost:8080/",
          "height": 437
        }
      },
      "source": [
        "import os\n",
        "if not os.path.exists(\"glove.6B.zip\"):\n",
        "  !wget http://nlp.stanford.edu/data/glove.6B.zip\n",
        "  !unzip glove.6B.zip"
      ],
      "execution_count": 0,
      "outputs": [
        {
          "output_type": "stream",
          "text": [
            "--2020-02-23 16:03:16--  http://nlp.stanford.edu/data/glove.6B.zip\n",
            "Resolving nlp.stanford.edu (nlp.stanford.edu)... 171.64.67.140\n",
            "Connecting to nlp.stanford.edu (nlp.stanford.edu)|171.64.67.140|:80... connected.\n",
            "HTTP request sent, awaiting response... 302 Found\n",
            "Location: https://nlp.stanford.edu/data/glove.6B.zip [following]\n",
            "--2020-02-23 16:03:21--  https://nlp.stanford.edu/data/glove.6B.zip\n",
            "Connecting to nlp.stanford.edu (nlp.stanford.edu)|171.64.67.140|:443... connected.\n",
            "HTTP request sent, awaiting response... 301 Moved Permanently\n",
            "Location: http://downloads.cs.stanford.edu/nlp/data/glove.6B.zip [following]\n",
            "--2020-02-23 16:03:22--  http://downloads.cs.stanford.edu/nlp/data/glove.6B.zip\n",
            "Resolving downloads.cs.stanford.edu (downloads.cs.stanford.edu)... 171.64.64.22\n",
            "Connecting to downloads.cs.stanford.edu (downloads.cs.stanford.edu)|171.64.64.22|:80... connected.\n",
            "HTTP request sent, awaiting response... 200 OK\n",
            "Length: 862182613 (822M) [application/zip]\n",
            "Saving to: ‘glove.6B.zip’\n",
            "\n",
            "glove.6B.zip        100%[===================>] 822.24M  2.06MB/s    in 6m 27s  \n",
            "\n",
            "2020-02-23 16:09:49 (2.12 MB/s) - ‘glove.6B.zip’ saved [862182613/862182613]\n",
            "\n",
            "Archive:  glove.6B.zip\n",
            "  inflating: glove.6B.50d.txt        \n",
            "  inflating: glove.6B.100d.txt       \n",
            "  inflating: glove.6B.200d.txt       \n",
            "  inflating: glove.6B.300d.txt       \n"
          ],
          "name": "stdout"
        }
      ]
    },
    {
      "cell_type": "code",
      "metadata": {
        "id": "cJ5bio0Wjkd6",
        "colab_type": "code",
        "colab": {}
      },
      "source": [
        "glove = open(\"glove.6B.50d.txt\",\"r\").read().split(\"\\n\")"
      ],
      "execution_count": 0,
      "outputs": []
    },
    {
      "cell_type": "code",
      "metadata": {
        "id": "vgKiNpxRlGxV",
        "colab_type": "code",
        "outputId": "a20235a0-1290-4a53-bea8-87c90207d1dc",
        "colab": {
          "base_uri": "https://localhost:8080/",
          "height": 34
        }
      },
      "source": [
        "from collections import defaultdict\n",
        "from tqdm import tqdm\n",
        "glove_dict = defaultdict(list)\n",
        "for i in tqdm(glove[:-1]):\n",
        "  temp = i.split(\" \")\n",
        "  glove_dict[temp[0]] = [float(j) for j in temp[1:]]"
      ],
      "execution_count": 0,
      "outputs": [
        {
          "output_type": "stream",
          "text": [
            "100%|██████████| 400000/400000 [00:07<00:00, 56166.35it/s]\n"
          ],
          "name": "stderr"
        }
      ]
    },
    {
      "cell_type": "code",
      "metadata": {
        "id": "kx29fAcal7MT",
        "colab_type": "code",
        "outputId": "a8d9b9b4-b158-477e-efeb-6d3a5d417366",
        "colab": {
          "base_uri": "https://localhost:8080/",
          "height": 84
        }
      },
      "source": [
        "import nltk\n",
        "import re\n",
        "from nltk.tokenize import word_tokenize , sent_tokenize\n",
        "from nltk.corpus import stopwords\n",
        "nltk.download(\"punkt\")\n",
        "nltk.download(\"stopwords\")\n",
        "Stopwords = stopwords.words(\"english\")\n",
        "\n",
        "def get_vector(x):\n",
        "  words = word_tokenize(str(x))\n",
        "  words = [i.lower() for i in words if i not in Stopwords and i.isalpha()]\n",
        "  vector = np.zeros(50)\n",
        "  for i in words:\n",
        "    if i in glove_dict:\n",
        "      vector = vector + np.array(glove_dict[i])\n",
        "  return vector\n",
        "\n",
        "embeddings = data.description.apply(lambda x: get_vector(x))"
      ],
      "execution_count": 0,
      "outputs": [
        {
          "output_type": "stream",
          "text": [
            "[nltk_data] Downloading package punkt to /root/nltk_data...\n",
            "[nltk_data]   Unzipping tokenizers/punkt.zip.\n",
            "[nltk_data] Downloading package stopwords to /root/nltk_data...\n",
            "[nltk_data]   Unzipping corpora/stopwords.zip.\n"
          ],
          "name": "stdout"
        }
      ]
    },
    {
      "cell_type": "code",
      "metadata": {
        "id": "SM2qlDMUqB-8",
        "colab_type": "code",
        "colab": {}
      },
      "source": [
        "import pickle\n",
        "\n",
        "with open(\"embeddings.pickle\",\"wb\") as file:\n",
        "  pickle.dump(embeddings,file)"
      ],
      "execution_count": 0,
      "outputs": []
    },
    {
      "cell_type": "markdown",
      "metadata": {
        "id": "dekrEfnqmyHJ",
        "colab_type": "text"
      },
      "source": [
        "#### Working with vectors work_1"
      ]
    },
    {
      "cell_type": "code",
      "metadata": {
        "id": "2-pX65BpTjKA",
        "colab_type": "code",
        "colab": {}
      },
      "source": [
        "# ss1 = 'The president greets the press in Chicago'\n",
        "# ss2 = 'Obama speaks to the media in Illinois'\n",
        "ss1= data.description.iloc[1]\n",
        "ss2= data.description.iloc[5]"
      ],
      "execution_count": 0,
      "outputs": []
    },
    {
      "cell_type": "code",
      "metadata": {
        "id": "WaCZozbXYxbI",
        "colab_type": "code",
        "colab": {}
      },
      "source": [
        "ss1_vector = get_vector(ss1)\n",
        "ss2_vector = get_vector(ss2)"
      ],
      "execution_count": 0,
      "outputs": []
    },
    {
      "cell_type": "code",
      "metadata": {
        "id": "G6_Rgy4jY4Qd",
        "colab_type": "code",
        "colab": {}
      },
      "source": [
        "from scipy.spatial import distance"
      ],
      "execution_count": 0,
      "outputs": []
    },
    {
      "cell_type": "code",
      "metadata": {
        "id": "KAGuFCgTagtf",
        "colab_type": "code",
        "outputId": "35c3bd3c-fa8b-4a35-800d-0877208e0c42",
        "colab": {
          "base_uri": "https://localhost:8080/",
          "height": 84
        }
      },
      "source": [
        "print(\"Cosine between ss1 and ss2 : \",distance.cosine(ss1_vector,ss2_vector))\n",
        "print(\"Eucledian Distance between ss1 and ss2 : \",distance.euclidean(ss1_vector,ss2_vector))\n",
        "print(\"Minkowski between ss1 and ss2 : \",distance.minkowski(ss1_vector,ss2_vector))\n",
        "print(\"Jaccard Distance between ss1 and ss2 is :\",distance.jaccard(ss2_vector,ss1_vector))"
      ],
      "execution_count": 0,
      "outputs": [
        {
          "output_type": "stream",
          "text": [
            "Cosine between ss1 and ss2 :  0.05166675494141426\n",
            "Eucledian Distance between ss1 and ss2 :  152.82029193507117\n",
            "Minkowski between ss1 and ss2 :  152.82029193507117\n",
            "Jaccard Distance between ss1 and ss2 is : 1.0\n"
          ],
          "name": "stdout"
        }
      ]
    },
    {
      "cell_type": "markdown",
      "metadata": {
        "id": "ufhEX7yBHW-K",
        "colab_type": "text"
      },
      "source": [
        "#### Work_2"
      ]
    },
    {
      "cell_type": "code",
      "metadata": {
        "id": "7SS4-xMrGs5U",
        "colab_type": "code",
        "colab": {}
      },
      "source": [
        "from gensim.test.utils import get_tmpfile,datapath\n",
        "from gensim.scripts.glove2word2vec import glove2word2vec"
      ],
      "execution_count": 0,
      "outputs": []
    },
    {
      "cell_type": "code",
      "metadata": {
        "id": "CSktRf8YHWA-",
        "colab_type": "code",
        "outputId": "dff79a38-1f5c-4996-b743-0e03df73505a",
        "colab": {
          "base_uri": "https://localhost:8080/",
          "height": 34
        }
      },
      "source": [
        "input_file = datapath(\"/content/glove.6B.100d.txt\")\n",
        "output_file = get_tmpfile(\"/content/model_testing_embeddings.kv\")\n",
        "glove2word2vec(input_file,output_file)"
      ],
      "execution_count": 0,
      "outputs": [
        {
          "output_type": "execute_result",
          "data": {
            "text/plain": [
              "(400000, 100)"
            ]
          },
          "metadata": {
            "tags": []
          },
          "execution_count": 16
        }
      ]
    },
    {
      "cell_type": "code",
      "metadata": {
        "id": "mbUsy9uRHjjh",
        "colab_type": "code",
        "colab": {}
      },
      "source": [
        "import gensim\n",
        "model = gensim.models.KeyedVectors.load_word2vec_format(\"/content/model_testing_embeddings.kv\")"
      ],
      "execution_count": 0,
      "outputs": []
    },
    {
      "cell_type": "code",
      "metadata": {
        "id": "2OqSRtg9zgY6",
        "colab_type": "code",
        "outputId": "e1d62d8b-6d25-4c0a-f026-eaad9c62db33",
        "colab": {
          "base_uri": "https://localhost:8080/",
          "height": 185
        }
      },
      "source": [
        "model.most_similar(positive=\"name\")"
      ],
      "execution_count": 0,
      "outputs": [
        {
          "output_type": "execute_result",
          "data": {
            "text/plain": [
              "[('names', 0.805137038230896),\n",
              " ('known', 0.7899130582809448),\n",
              " ('word', 0.7795394659042358),\n",
              " ('named', 0.7567732930183411),\n",
              " ('referred', 0.7518554925918579),\n",
              " ('refer', 0.7310047745704651),\n",
              " ('nickname', 0.7171461582183838),\n",
              " ('same', 0.7171194553375244),\n",
              " ('meaning', 0.7128324508666992),\n",
              " ('as', 0.7021154165267944)]"
            ]
          },
          "metadata": {
            "tags": []
          },
          "execution_count": 18
        }
      ]
    },
    {
      "cell_type": "code",
      "metadata": {
        "id": "m0zVJe8lrWfE",
        "colab_type": "code",
        "colab": {}
      },
      "source": [
        "keys = ['dance','technology','greeting', 'early', 'costly', 'exit', 'artificial']\n",
        "\n",
        "embedding_clusters = []\n",
        "word_clusters = []\n",
        "for word in keys:\n",
        "    embeddings = []\n",
        "    words = []\n",
        "    for similar_word, _ in model.most_similar(word, topn=30):\n",
        "        words.append(similar_word)\n",
        "        embeddings.append(model[similar_word])\n",
        "    embedding_clusters.append(embeddings)\n",
        "    word_clusters.append(words)"
      ],
      "execution_count": 0,
      "outputs": []
    },
    {
      "cell_type": "code",
      "metadata": {
        "id": "RHUl-8hjsBC8",
        "colab_type": "code",
        "colab": {}
      },
      "source": [
        "from sklearn.manifold import TSNE\n",
        "import numpy as np\n",
        "\n",
        "embedding_clusters = np.array(embedding_clusters)\n",
        "n, m, k = embedding_clusters.shape\n",
        "tsne_model_en_2d = TSNE(perplexity=15, n_components=2, init='pca', n_iter=4000, random_state=32)\n",
        "embeddings_en_2d = np.array(tsne_model_en_2d.fit_transform(embedding_clusters.reshape(n * m, k))).reshape(n, m, 2)"
      ],
      "execution_count": 0,
      "outputs": []
    },
    {
      "cell_type": "code",
      "metadata": {
        "id": "U3SoFi8BsnXp",
        "colab_type": "code",
        "outputId": "6ee4e3b7-f69a-4275-f277-4dcbf3144cf4",
        "colab": {
          "base_uri": "https://localhost:8080/",
          "height": 690
        }
      },
      "source": [
        "import matplotlib.pyplot as plt\n",
        "import matplotlib.cm as cm\n",
        "% matplotlib inline\n",
        "import warnings\n",
        "warnings.filterwarnings('ignore')\n",
        "\n",
        "def tsne_plot_similar_words(title, labels, embedding_clusters, word_clusters, a, filename=None):\n",
        "    plt.figure(figsize=(16, 9))\n",
        "    colors = cm.rainbow(np.linspace(0, 1, len(labels)))\n",
        "    for label, embeddings, words, color in zip(labels, embedding_clusters, word_clusters, colors):\n",
        "        x = embeddings[:, 0]\n",
        "        y = embeddings[:, 1]\n",
        "        plt.scatter(x, y, c=color, alpha=a, label=label)\n",
        "        for i, word in enumerate(words):\n",
        "            plt.annotate(word, alpha=0.5, xy=(x[i], y[i]), xytext=(5, 2),\n",
        "                         textcoords='offset points', ha='right', va='bottom', size=8)\n",
        "    plt.legend(loc=4)\n",
        "    plt.title(title)\n",
        "    plt.grid(True)\n",
        "    # if filename:\n",
        "    #     plt.savefig(filename, format='png', dpi=150, bbox_inches='tight')\n",
        "    plt.show()\n",
        "\n",
        "\n",
        "tsne_plot_similar_words('Similar words related to Consumer Complaint', keys, embeddings_en_2d, word_clusters, 0.7,\n",
        "                        'similar_words.png')"
      ],
      "execution_count": 0,
      "outputs": [
        {
          "output_type": "stream",
          "text": [
            "'c' argument looks like a single numeric RGB or RGBA sequence, which should be avoided as value-mapping will have precedence in case its length matches with 'x' & 'y'.  Please use a 2-D array with a single row if you really want to specify the same RGB or RGBA value for all points.\n",
            "'c' argument looks like a single numeric RGB or RGBA sequence, which should be avoided as value-mapping will have precedence in case its length matches with 'x' & 'y'.  Please use a 2-D array with a single row if you really want to specify the same RGB or RGBA value for all points.\n",
            "'c' argument looks like a single numeric RGB or RGBA sequence, which should be avoided as value-mapping will have precedence in case its length matches with 'x' & 'y'.  Please use a 2-D array with a single row if you really want to specify the same RGB or RGBA value for all points.\n",
            "'c' argument looks like a single numeric RGB or RGBA sequence, which should be avoided as value-mapping will have precedence in case its length matches with 'x' & 'y'.  Please use a 2-D array with a single row if you really want to specify the same RGB or RGBA value for all points.\n",
            "'c' argument looks like a single numeric RGB or RGBA sequence, which should be avoided as value-mapping will have precedence in case its length matches with 'x' & 'y'.  Please use a 2-D array with a single row if you really want to specify the same RGB or RGBA value for all points.\n",
            "'c' argument looks like a single numeric RGB or RGBA sequence, which should be avoided as value-mapping will have precedence in case its length matches with 'x' & 'y'.  Please use a 2-D array with a single row if you really want to specify the same RGB or RGBA value for all points.\n",
            "'c' argument looks like a single numeric RGB or RGBA sequence, which should be avoided as value-mapping will have precedence in case its length matches with 'x' & 'y'.  Please use a 2-D array with a single row if you really want to specify the same RGB or RGBA value for all points.\n"
          ],
          "name": "stderr"
        },
        {
          "output_type": "display_data",
          "data": {
            "image/png": "[encoded data removed]",
            "text/plain": [
              "<Figure size 1152x648 with 1 Axes>"
            ]
          },
          "metadata": {
            "tags": []
          }
        }
      ]
    },
    {
      "cell_type": "markdown",
      "metadata": {
        "id": "WS4dSdOXuBxr",
        "colab_type": "text"
      },
      "source": [
        "## Document embeddings using word embeddings"
      ]
    },
    {
      "cell_type": "code",
      "metadata": {
        "id": "je8y6VEnJ7O-",
        "colab_type": "code",
        "outputId": "c6d1f817-d5a6-470e-c339-954b7ccd8f5b",
        "colab": {
          "base_uri": "https://localhost:8080/",
          "height": 34
        }
      },
      "source": [
        "from tqdm import tqdm\n",
        "embeddings = []\n",
        "isbn = []\n",
        "for i,row in tqdm(data.iterrows()):\n",
        "  isbn.append([row.ISBN])\n",
        "  # ,row.format,row.rating_5])\n",
        "  embeddings.append(get_vector(str(row.description)))"
      ],
      "execution_count": 0,
      "outputs": [
        {
          "output_type": "stream",
          "text": [
            "18573it [00:39, 465.32it/s]\n"
          ],
          "name": "stderr"
        }
      ]
    },
    {
      "cell_type": "code",
      "metadata": {
        "id": "WNPrpCh8b6Hh",
        "colab_type": "code",
        "colab": {}
      },
      "source": [
        "j = pd.DataFrame(embeddings[:18573],index=None,columns=None)\n",
        "# # m = pd.DataFrame(isbn)\n",
        "# # j = pd.concat([m,j],axis=1)\n",
        "j.to_csv(\"embeddings.tsv\",sep=\"\\t\")\n",
        "pd.DataFrame(isbn[:18573],index=None).to_csv(\"data.tsv\",sep=\"\\t\")"
      ],
      "execution_count": 0,
      "outputs": []
    },
    {
      "cell_type": "markdown",
      "metadata": {
        "id": "JOTfP2uGc1N1",
        "colab_type": "text"
      },
      "source": [
        "# Another Try"
      ]
    },
    {
      "cell_type": "code",
      "metadata": {
        "id": "JSHfUfGcjmMP",
        "colab_type": "code",
        "outputId": "6af7ba16-27ba-47fb-ac78-fa4517650264",
        "colab": {
          "base_uri": "https://localhost:8080/",
          "height": 34
        }
      },
      "source": [
        "from tqdm import tqdm\n",
        "embeddings_train = []\n",
        "for i in tqdm(data.description):\n",
        "  embeddings_train.append(get_vector(str(i)))"
      ],
      "execution_count": 0,
      "outputs": [
        {
          "output_type": "stream",
          "text": [
            "100%|██████████| 18573/18573 [00:25<00:00, 725.62it/s]\n"
          ],
          "name": "stderr"
        }
      ]
    },
    {
      "cell_type": "code",
      "metadata": {
        "id": "rwdwjoQ9kMwY",
        "colab_type": "code",
        "outputId": "c707b4b4-09ea-434a-dc56-4471b826ba14",
        "colab": {
          "base_uri": "https://localhost:8080/",
          "height": 79
        }
      },
      "source": [
        "from scipy.spatial.distance import cosine\n",
        "import tensorflow as tf\n",
        "def cosine_distance_simple(x,y):\n",
        "  return cosine(x,y)\n",
        "\n",
        "from keras import backend as K\n",
        "\n",
        "def cosine_distance(vests):\n",
        "    x, y = vests\n",
        "    x = K.l2_normalize(x, axis=-1)\n",
        "    y = K.l2_normalize(y, axis=-1)\n",
        "    return -K.mean(x * y, axis=-1, keepdims=True)\n",
        "\n",
        "def cos_dist_output_shape(shapes):\n",
        "    shape1, shape2 = shapes\n",
        "    return (shape1[0],1)\n",
        "\n",
        "# distance = Lambda(cosine_distance, output_shape=cos_dist_output_shape)([processed_a, processed_b]"
      ],
      "execution_count": 0,
      "outputs": [
        {
          "output_type": "display_data",
          "data": {
            "text/html": [
              "<p style=\"color: red;\">\n",
              "The default version of TensorFlow in Colab will soon switch to TensorFlow 2.x.<br>\n",
              "We recommend you <a href=\"https://www.tensorflow.org/guide/migrate\" target=\"_blank\">upgrade</a> now \n",
              "or ensure your notebook will continue to use TensorFlow 1.x via the <code>%tensorflow_version 1.x</code> magic:\n",
              "<a href=\"https://colab.research.google.com/notebooks/tensorflow_version.ipynb\" target=\"_blank\">more info</a>.</p>\n"
            ],
            "text/plain": [
              "<IPython.core.display.HTML object>"
            ]
          },
          "metadata": {
            "tags": []
          }
        },
        {
          "output_type": "stream",
          "text": [
            "Using TensorFlow backend.\n"
          ],
          "name": "stderr"
        }
      ]
    },
    {
      "cell_type": "code",
      "metadata": {
        "id": "bxI4iBVRwlsY",
        "colab_type": "code",
        "outputId": "41bec9cb-cdb1-406e-e13b-2da38384fc82",
        "colab": {
          "base_uri": "https://localhost:8080/",
          "height": 34
        }
      },
      "source": [
        "train_1,train_2,y_train = [],[],[]\n",
        "for i in tqdm(data.description[:10]):\n",
        "  vec_1 = get_vector(i)\n",
        "  for j in data.description:\n",
        "    vec_2 = get_vector(j)\n",
        "    train_1.append(vec_1)\n",
        "    train_2.append(vec_2)\n",
        "    y_train.append(cosine_distance_simple(vec_1,vec_2))"
      ],
      "execution_count": 0,
      "outputs": [
        {
          "output_type": "stream",
          "text": [
            "100%|██████████| 10/10 [04:21<00:00, 26.17s/it]\n"
          ],
          "name": "stderr"
        }
      ]
    },
    {
      "cell_type": "code",
      "metadata": {
        "id": "5DlzLQKoc3Rw",
        "colab_type": "code",
        "colab": {}
      },
      "source": [
        "from keras.layers import BatchNormalization , Input , Dense , Dropout , LSTM ,Bidirectional ,Embedding ,Conv1D,Conv2D ,Lambda, Concatenate ,Activation\n",
        "from keras.models import Model,Sequential"
      ],
      "execution_count": 0,
      "outputs": []
    },
    {
      "cell_type": "code",
      "metadata": {
        "id": "ukNgKyRZg9Oa",
        "colab_type": "code",
        "outputId": "da32080e-2c5f-46d2-f90f-0799744f494b",
        "colab": {
          "base_uri": "https://localhost:8080/",
          "height": 138
        }
      },
      "source": [
        "input_1 = Input(shape=(50,))\n",
        "output_1 = Embedding(input_dim=50,output_dim=100,input_length = 50,activity_regularizer=\"l2\",trainable=True)(input_1)\n",
        "output_1 = Bidirectional(LSTM(50,return_sequences=True))(output_1)\n",
        "output_1 = LSTM(200)(output_1)\n",
        "output_1 = Dense(128,activation=\"tanh\")(output_1)\n",
        "\n",
        "input_2 = Input(shape=(50,))\n",
        "output_2 = Embedding(input_dim=50,output_dim=100,input_length = 50,trainable=True)(input_2)\n",
        "output_2 = Bidirectional(LSTM(50,return_sequences=True))(output_2)\n",
        "output_2 = LSTM(200)(output_2)\n",
        "output_2 = Dense(128,activation=\"tanh\")(output_2)\n",
        "\n",
        "out = Concatenate(name=\"merge\")([output_1,output_2])\n",
        "# out = Lambda(cosine_distance, cos_dist_output_shape)([output_1, output_2])\n",
        "out = Dense(1)(out)\n",
        "out = Activation(\"relu\",name=\"out\")(out)"
      ],
      "execution_count": 0,
      "outputs": [
        {
          "output_type": "stream",
          "text": [
            "WARNING:tensorflow:From /usr/local/lib/python3.6/dist-packages/keras/backend/tensorflow_backend.py:66: The name tf.get_default_graph is deprecated. Please use tf.compat.v1.get_default_graph instead.\n",
            "\n",
            "WARNING:tensorflow:From /usr/local/lib/python3.6/dist-packages/keras/backend/tensorflow_backend.py:541: The name tf.placeholder is deprecated. Please use tf.compat.v1.placeholder instead.\n",
            "\n",
            "WARNING:tensorflow:From /usr/local/lib/python3.6/dist-packages/keras/backend/tensorflow_backend.py:4432: The name tf.random_uniform is deprecated. Please use tf.random.uniform instead.\n",
            "\n"
          ],
          "name": "stdout"
        }
      ]
    },
    {
      "cell_type": "code",
      "metadata": {
        "id": "NMS0QJcrk-4u",
        "colab_type": "code",
        "outputId": "fec0e193-bbfe-4af1-bb01-9b02de3fbc4b",
        "colab": {
          "base_uri": "https://localhost:8080/",
          "height": 605
        }
      },
      "source": [
        "model = Model([input_1,input_2],[out])\n",
        "model.summary()"
      ],
      "execution_count": 0,
      "outputs": [
        {
          "output_type": "stream",
          "text": [
            "Model: \"model_1\"\n",
            "__________________________________________________________________________________________________\n",
            "Layer (type)                    Output Shape         Param #     Connected to                     \n",
            "==================================================================================================\n",
            "input_1 (InputLayer)            (None, 50)           0                                            \n",
            "__________________________________________________________________________________________________\n",
            "input_2 (InputLayer)            (None, 50)           0                                            \n",
            "__________________________________________________________________________________________________\n",
            "embedding_1 (Embedding)         (None, 50, 100)      5000        input_1[0][0]                    \n",
            "__________________________________________________________________________________________________\n",
            "embedding_2 (Embedding)         (None, 50, 100)      5000        input_2[0][0]                    \n",
            "__________________________________________________________________________________________________\n",
            "bidirectional_1 (Bidirectional) (None, 50, 100)      60400       embedding_1[0][0]                \n",
            "__________________________________________________________________________________________________\n",
            "bidirectional_2 (Bidirectional) (None, 50, 100)      60400       embedding_2[0][0]                \n",
            "__________________________________________________________________________________________________\n",
            "lstm_2 (LSTM)                   (None, 200)          240800      bidirectional_1[0][0]            \n",
            "__________________________________________________________________________________________________\n",
            "lstm_4 (LSTM)                   (None, 200)          240800      bidirectional_2[0][0]            \n",
            "__________________________________________________________________________________________________\n",
            "dense_1 (Dense)                 (None, 128)          25728       lstm_2[0][0]                     \n",
            "__________________________________________________________________________________________________\n",
            "dense_2 (Dense)                 (None, 128)          25728       lstm_4[0][0]                     \n",
            "__________________________________________________________________________________________________\n",
            "merge (Concatenate)             (None, 256)          0           dense_1[0][0]                    \n",
            "                                                                 dense_2[0][0]                    \n",
            "__________________________________________________________________________________________________\n",
            "dense_3 (Dense)                 (None, 1)            257         merge[0][0]                      \n",
            "__________________________________________________________________________________________________\n",
            "out (Activation)                (None, 1)            0           dense_3[0][0]                    \n",
            "==================================================================================================\n",
            "Total params: 664,113\n",
            "Trainable params: 664,113\n",
            "Non-trainable params: 0\n",
            "__________________________________________________________________________________________________\n"
          ],
          "name": "stdout"
        }
      ]
    },
    {
      "cell_type": "code",
      "metadata": {
        "id": "LMCJYWnFoZ2r",
        "colab_type": "code",
        "outputId": "0eaef29b-8d5f-45ee-e97c-0e862597f2cd",
        "colab": {
          "base_uri": "https://localhost:8080/",
          "height": 758
        }
      },
      "source": [
        "from keras.utils import plot_model\n",
        "plot_model(model)"
      ],
      "execution_count": 0,
      "outputs": [
        {
          "output_type": "execute_result",
          "data": {
            "image/png": "[encoded data removed]",
            "text/plain": [
              "<IPython.core.display.Image object>"
            ]
          },
          "metadata": {
            "tags": []
          },
          "execution_count": 20
        }
      ]
    },
    {
      "cell_type": "code",
      "metadata": {
        "id": "UGCuw5Zal7lQ",
        "colab_type": "code",
        "colab": {}
      },
      "source": [
        "import keras.backend as K\n",
        "def mean_rectified_infinity_loss(y_true, y_pred):\n",
        "    k = 5.0\n",
        "\n",
        "    cond = K.equal(y_true, K.zeros_like(y_true))\n",
        "    if K.backend() == 'tensorflow':\n",
        "        import tensorflow as tf\n",
        "        # err = tf.where(cond, K.square(y_pred - y_true), K.exp(-y_pred / k))\n",
        "        err = tf.where(cond, K.square(y_pred),\n",
        "                       k/K.square(K.clip(y_pred, min_value=K.epsilon(), max_value=float('inf'))))\n",
        "    else:\n",
        "        from theano.ifelse import ifelse\n",
        "        # err = ifelse(cond, K.square(y_pred - y_true), K.exp(-y_pred / k))\n",
        "        err = ifelse(cond, K.square(y_pred),\n",
        "                     k/K.square(K.clip(y_pred, min_value=K.epsilon(), max_value=float('inf'))))\n",
        "\n",
        "    return K.mean(err, axis=-1)\n",
        "\n",
        "def exponent_neg_manhattan_distance(left, right):\n",
        "  return K.exp(-K.sum(K.abs(left-right), axis=1, keepdims=True))\n",
        "def exponent_neg_manhattan_distance2(left, right):\n",
        "  return K.exp(-K.sum(K.abs(left-right), axis=1, keepdims=True))"
      ],
      "execution_count": 0,
      "outputs": []
    },
    {
      "cell_type": "code",
      "metadata": {
        "id": "FH8umMnIqlWx",
        "colab_type": "code",
        "colab": {}
      },
      "source": [
        "# left,right = get_vector(data.description[1]),get_vector(data.description[2])"
      ],
      "execution_count": 0,
      "outputs": []
    },
    {
      "cell_type": "code",
      "metadata": {
        "id": "iVjKZFvGuZPV",
        "colab_type": "code",
        "colab": {}
      },
      "source": [
        "model.compile(optimizer=\"rmsprop\",loss=\"mean_squared_error\")"
      ],
      "execution_count": 0,
      "outputs": []
    },
    {
      "cell_type": "code",
      "metadata": {
        "id": "tVy3NyqhudBz",
        "colab_type": "code",
        "outputId": "26a0dbc1-4e72-4cc9-c206-a5c241e2a77e",
        "colab": {
          "base_uri": "https://localhost:8080/",
          "height": 218
        }
      },
      "source": [
        "model.fit([train_1[:10000],train_2[:10000]],y_train[:10000],batch_size=32,epochs=5,verbose=1,validation_split=0.2)"
      ],
      "execution_count": 0,
      "outputs": [
        {
          "output_type": "stream",
          "text": [
            "Train on 8000 samples, validate on 2000 samples\n",
            "Epoch 1/5\n",
            "8000/8000 [==============================] - 147s 18ms/step - loss: nan - val_loss: nan\n",
            "Epoch 2/5\n",
            "8000/8000 [==============================] - 141s 18ms/step - loss: nan - val_loss: nan\n",
            "Epoch 3/5\n",
            "8000/8000 [==============================] - 142s 18ms/step - loss: nan - val_loss: nan\n",
            "Epoch 4/5\n",
            "8000/8000 [==============================] - 142s 18ms/step - loss: nan - val_loss: nan\n",
            "Epoch 5/5\n",
            "8000/8000 [==============================] - 142s 18ms/step - loss: nan - val_loss: nan\n"
          ],
          "name": "stdout"
        },
        {
          "output_type": "execute_result",
          "data": {
            "text/plain": [
              "<keras.callbacks.History at 0x7f61b8f45da0>"
            ]
          },
          "metadata": {
            "tags": []
          },
          "execution_count": 31
        }
      ]
    },
    {
      "cell_type": "code",
      "metadata": {
        "id": "7Ze1jYXc46xr",
        "colab_type": "code",
        "outputId": "0c29ccee-5ac5-4792-cfd6-d6307ccbc135",
        "colab": {
          "base_uri": "https://localhost:8080/",
          "height": 34
        }
      },
      "source": [
        "np.array(y_train).shape"
      ],
      "execution_count": 0,
      "outputs": [
        {
          "output_type": "execute_result",
          "data": {
            "text/plain": [
              "(185730,)"
            ]
          },
          "metadata": {
            "tags": []
          },
          "execution_count": 146
        }
      ]
    },
    {
      "cell_type": "markdown",
      "metadata": {
        "id": "suIyP-jqi1wm",
        "colab_type": "text"
      },
      "source": [
        "# TensorFLow Hub **Try**\n"
      ]
    },
    {
      "cell_type": "code",
      "metadata": {
        "id": "eJPwLBdvo3Tf",
        "colab_type": "code",
        "outputId": "3d5d32e9-c8c1-4693-881a-098cbabd891d",
        "colab": {
          "base_uri": "https://localhost:8080/",
          "height": 613
        }
      },
      "source": [
        "import matplotlib.pyplot as plt\n",
        "\n",
        "def heatmap(x_labels, y_labels, values):\n",
        "  fig, ax = plt.subplots()\n",
        "  im = ax.imshow(values)\n",
        "\n",
        "  # # We want to show all ticks...\n",
        "  ax.set_xticks(np.arange(len(x_labels)))\n",
        "  ax.set_yticks(np.arange(len(y_labels)))\n",
        "  # # ... and label them with the respective list entries\n",
        "  ax.set_xticklabels(x_labels)\n",
        "  ax.set_yticklabels(y_labels)\n",
        "\n",
        "  # Rotate the tick labels and set their alignment.\n",
        "  plt.setp(ax.get_xticklabels(), rotation=45, ha=\"right\", fontsize=10,\n",
        "        rotation_mode=\"anchor\")\n",
        "\n",
        "  # # Loop over data dimensions and create text annotations.\n",
        "  # for i in range(len(y_labels)):\n",
        "  #     for j in range(len(x_labels)):\n",
        "  #         text = ax.text(j, i, \"%.2f\"%values[i, j],\n",
        "  #                         ha=\"center\", va=\"center\", color=\"w\", fontsize=6)\n",
        "\n",
        "  fig.tight_layout()\n",
        "  plt.show()\n",
        "\n",
        "heatmap(names, names, corr)"
      ],
      "execution_count": 0,
      "outputs": [
        {
          "output_type": "display_data",
          "data": {
            "image/png": "[encoded data removed]",
            "text/plain": [
              "<Figure size 432x288 with 1 Axes>"
            ]
          },
          "metadata": {
            "tags": []
          }
        }
      ]
    },
    {
      "cell_type": "code",
      "metadata": {
        "id": "qlfqrRbXi37R",
        "colab_type": "code",
        "outputId": "98d7f909-e5f9-4c4a-ebbe-4f741d96cd06",
        "colab": {
          "base_uri": "https://localhost:8080/",
          "height": 50
        }
      },
      "source": [
        "import tensorflow as tf\n",
        "import tensorflow_hub as hub\n",
        "\n",
        "module_url = \"https://tfhub.dev/google/universal-sentence-encoder/1?tf-hub-format=compressed\"\n",
        "\n",
        "# Import the Universal Sentence Encoder's TF Hub module\n",
        "embed = hub.Module(module_url)\n",
        "\n",
        "# sample text\n",
        "names = data.bookTitle\n",
        "messages = data.description\n",
        "\n",
        "similarity_input_placeholder = tf.placeholder(tf.string, shape=(None))\n",
        "similarity_message_encodings = embed(similarity_input_placeholder)\n",
        "with tf.Session() as session:\n",
        "  session.run(tf.global_variables_initializer())\n",
        "  session.run(tf.tables_initializer())\n",
        "  message_embeddings_ = session.run(similarity_message_encodings, feed_dict={similarity_input_placeholder: messages})\n",
        "\n",
        "  corr = np.inner(message_embeddings_, message_embeddings_)\n",
        "  # print(corr)\n",
        "  # heatmap(names, names, corr)"
      ],
      "execution_count": 0,
      "outputs": [
        {
          "output_type": "stream",
          "text": [
            "INFO:tensorflow:Saver not created because there are no variables in the graph to restore\n"
          ],
          "name": "stdout"
        },
        {
          "output_type": "stream",
          "text": [
            "INFO:tensorflow:Saver not created because there are no variables in the graph to restore\n"
          ],
          "name": "stderr"
        }
      ]
    },
    {
      "cell_type": "code",
      "metadata": {
        "id": "tXrX2kuO-pIK",
        "colab_type": "code",
        "colab": {}
      },
      "source": [
        "# pd.DataFrame(message_embeddings_).to_csv(\"books_content_embeddings.tsv\",sep=\"\\t\",index=None)\n",
        "pd.DataFrame(names).to_csv(\"book_names.tsv\",sep=\"\\t\",index=None)"
      ],
      "execution_count": 0,
      "outputs": []
    },
    {
      "cell_type": "markdown",
      "metadata": {
        "id": "B4t8XM-fRAPH",
        "colab_type": "text"
      },
      "source": [
        "# Try with google embeddings"
      ]
    },
    {
      "cell_type": "code",
      "metadata": {
        "id": "MLfRo41URCin",
        "colab_type": "code",
        "outputId": "c0884fd8-666d-4d7a-9911-1e96a15fa756",
        "colab": {
          "base_uri": "https://localhost:8080/",
          "height": 202
        }
      },
      "source": [
        "!wget -c \"https://s3.amazonaws.com/dl4j-distribution/GoogleNews-vectors-negative300.bin.gz\""
      ],
      "execution_count": 0,
      "outputs": [
        {
          "output_type": "stream",
          "text": [
            "--2020-02-23 07:32:32--  https://s3.amazonaws.com/dl4j-distribution/GoogleNews-vectors-negative300.bin.gz\n",
            "Resolving s3.amazonaws.com (s3.amazonaws.com)... 52.216.97.77\n",
            "Connecting to s3.amazonaws.com (s3.amazonaws.com)|52.216.97.77|:443... connected.\n",
            "HTTP request sent, awaiting response... 200 OK\n",
            "Length: 1647046227 (1.5G) [application/x-gzip]\n",
            "Saving to: ‘GoogleNews-vectors-negative300.bin.gz’\n",
            "\n",
            "GoogleNews-vectors- 100%[===================>]   1.53G  36.6MB/s    in 44s     \n",
            "\n",
            "2020-02-23 07:33:16 (35.7 MB/s) - ‘GoogleNews-vectors-negative300.bin.gz’ saved [1647046227/1647046227]\n",
            "\n"
          ],
          "name": "stdout"
        }
      ]
    },
    {
      "cell_type": "code",
      "metadata": {
        "id": "kmytNHPRRD9K",
        "colab_type": "code",
        "colab": {}
      },
      "source": [
        "!gunzip -k GoogleNews-vectors-negative300.bin.gz"
      ],
      "execution_count": 0,
      "outputs": []
    },
    {
      "cell_type": "code",
      "metadata": {
        "id": "f3hnJK7BSnNT",
        "colab_type": "code",
        "colab": {}
      },
      "source": [
        "from gensim.models import Word2Vec,KeyedVectors"
      ],
      "execution_count": 0,
      "outputs": []
    },
    {
      "cell_type": "code",
      "metadata": {
        "id": "U_w_0--VS5j8",
        "colab_type": "code",
        "colab": {}
      },
      "source": [
        "model = KeyedVectors.load_word2vec_format('GoogleNews-vectors-negative300.bin', binary=True)"
      ],
      "execution_count": 0,
      "outputs": []
    },
    {
      "cell_type": "code",
      "metadata": {
        "id": "UkpxokvmS6xJ",
        "colab_type": "code",
        "colab": {}
      },
      "source": [
        "import pandas as pd\n",
        "import numpy as np\n"
      ],
      "execution_count": 0,
      "outputs": []
    },
    {
      "cell_type": "code",
      "metadata": {
        "id": "q35k8OX0TbVf",
        "colab_type": "code",
        "colab": {}
      },
      "source": [
        "data = pd.read_csv(\"complete_data.csv\")"
      ],
      "execution_count": 0,
      "outputs": []
    },
    {
      "cell_type": "code",
      "metadata": {
        "id": "QyOQG4vQU4mB",
        "colab_type": "code",
        "outputId": "16f7ed35-eca4-4065-a6a3-3a0a11103695",
        "colab": {
          "base_uri": "https://localhost:8080/",
          "height": 84
        }
      },
      "source": [
        "import nltk\n",
        "import re\n",
        "from nltk.tokenize import word_tokenize , sent_tokenize\n",
        "from nltk.corpus import stopwords\n",
        "nltk.download(\"punkt\")\n",
        "nltk.download(\"stopwords\")\n",
        "Stopwords = stopwords.words(\"english\")"
      ],
      "execution_count": 0,
      "outputs": [
        {
          "output_type": "stream",
          "text": [
            "[nltk_data] Downloading package punkt to /root/nltk_data...\n",
            "[nltk_data]   Unzipping tokenizers/punkt.zip.\n",
            "[nltk_data] Downloading package stopwords to /root/nltk_data...\n",
            "[nltk_data]   Unzipping corpora/stopwords.zip.\n"
          ],
          "name": "stdout"
        }
      ]
    },
    {
      "cell_type": "code",
      "metadata": {
        "id": "w6Vq-zkBTepi",
        "colab_type": "code",
        "outputId": "3326f04e-88b9-4f47-d128-e0eee8439972",
        "colab": {
          "base_uri": "https://localhost:8080/",
          "height": 34
        }
      },
      "source": [
        "def get_vector_google(model,x):\n",
        "  words = word_tokenize(str(x))\n",
        "  words = [i.lower() for i in words if i not in Stopwords and i.isalpha()]\n",
        "  vector = np.zeros(300)\n",
        "  for i in words:\n",
        "    if i in model.wv.vocab:\n",
        "      vector = vector + np.array(model[i])\n",
        "  return vector\n",
        "\n",
        "from tqdm import tqdm\n",
        "embeddings = []\n",
        "for i in tqdm(data.description):\n",
        "  embeddings.append(get_vector_google(model,i))\n",
        "  "
      ],
      "execution_count": 0,
      "outputs": [
        {
          "output_type": "stream",
          "text": [
            "100%|██████████| 18573/18573 [00:37<00:00, 501.17it/s]\n"
          ],
          "name": "stderr"
        }
      ]
    },
    {
      "cell_type": "code",
      "metadata": {
        "id": "8c2EiVbZU6NL",
        "colab_type": "code",
        "outputId": "282486ec-5e35-4ef8-be14-789623777c7b",
        "colab": {
          "base_uri": "https://localhost:8080/",
          "height": 79
        }
      },
      "source": [
        "from keras.preprocessing.text import Tokenizer, one_hot\n",
        "from keras.preprocessing.sequence import pad_sequences\n",
        "from keras.layers import Embedding, Input, LSTM, RepeatVector, Dense, Dropout\n",
        "from keras.models import Model"
      ],
      "execution_count": 0,
      "outputs": [
        {
          "output_type": "stream",
          "text": [
            "Using TensorFlow backend.\n"
          ],
          "name": "stderr"
        },
        {
          "output_type": "display_data",
          "data": {
            "text/html": [
              "<p style=\"color: red;\">\n",
              "The default version of TensorFlow in Colab will soon switch to TensorFlow 2.x.<br>\n",
              "We recommend you <a href=\"https://www.tensorflow.org/guide/migrate\" target=\"_blank\">upgrade</a> now \n",
              "or ensure your notebook will continue to use TensorFlow 1.x via the <code>%tensorflow_version 1.x</code> magic:\n",
              "<a href=\"https://colab.research.google.com/notebooks/tensorflow_version.ipynb\" target=\"_blank\">more info</a>.</p>\n"
            ],
            "text/plain": [
              "<IPython.core.display.HTML object>"
            ]
          },
          "metadata": {
            "tags": []
          }
        }
      ]
    },
    {
      "cell_type": "code",
      "metadata": {
        "id": "m-QQATMJWz2X",
        "colab_type": "code",
        "colab": {}
      },
      "source": [
        "tokenizer=Tokenizer()\n",
        "tokenizer.fit_on_texts(data.description)"
      ],
      "execution_count": 0,
      "outputs": []
    },
    {
      "cell_type": "code",
      "metadata": {
        "id": "FPBwj5yeYIU8",
        "colab_type": "code",
        "colab": {}
      },
      "source": [
        "sequences = tokenizer.texts_to_sequences(data.description)"
      ],
      "execution_count": 0,
      "outputs": []
    },
    {
      "cell_type": "code",
      "metadata": {
        "id": "FDKpU130YhUk",
        "colab_type": "code",
        "colab": {}
      },
      "source": [
        "x_train = pad_sequences(sequences)"
      ],
      "execution_count": 0,
      "outputs": []
    },
    {
      "cell_type": "code",
      "metadata": {
        "id": "CNyz0br-Yr6v",
        "colab_type": "code",
        "colab": {}
      },
      "source": [
        "y_train = tokenizer.texts_to_matrix(data.description,mode = \"binary\")"
      ],
      "execution_count": 0,
      "outputs": []
    },
    {
      "cell_type": "code",
      "metadata": {
        "id": "ObxpM4S2Y3cW",
        "colab_type": "code",
        "colab": {}
      },
      "source": [
        "embedding_matrix = np.zeros((len(tokenizer.word_index) + 1, 300))\n",
        "for word, i in tokenizer.word_index.items():\n",
        "    if word in model:\n",
        "        embedding_matrix[i] = model[word]\n",
        "    else:\n",
        "        embedding_matrix[i] = np.random.rand(1, 300)[0]"
      ],
      "execution_count": 0,
      "outputs": []
    },
    {
      "cell_type": "code",
      "metadata": {
        "id": "GuXaAY8nbHYt",
        "colab_type": "code",
        "outputId": "238eb225-5019-40ce-b3ff-03cdbe75bb8b",
        "colab": {
          "base_uri": "https://localhost:8080/",
          "height": 339
        }
      },
      "source": [
        "embedding_layer = Embedding(len(tokenizer.word_index) + 1,\n",
        "                            300,\n",
        "                            weights=[embedding_matrix],\n",
        "                            trainable=False)\n",
        "\n",
        "inputs = Input(shape=(len(x_train[0]), ), dtype='int32')\n",
        "embedded_sequences = embedding_layer(inputs)\n",
        "encoded = LSTM(100)(embedded_sequences)\n",
        "\n",
        "decoded = RepeatVector(len(x_train[0]), )(encoded)\n",
        "decoded = LSTM(50)(decoded)\n"
      ],
      "execution_count": 0,
      "outputs": [
        {
          "output_type": "stream",
          "text": [
            "WARNING:tensorflow:From /usr/local/lib/python3.6/dist-packages/keras/backend/tensorflow_backend.py:66: The name tf.get_default_graph is deprecated. Please use tf.compat.v1.get_default_graph instead.\n",
            "\n",
            "WARNING:tensorflow:From /usr/local/lib/python3.6/dist-packages/keras/backend/tensorflow_backend.py:541: The name tf.placeholder is deprecated. Please use tf.compat.v1.placeholder instead.\n",
            "\n",
            "WARNING:tensorflow:From /usr/local/lib/python3.6/dist-packages/keras/backend/tensorflow_backend.py:4432: The name tf.random_uniform is deprecated. Please use tf.random.uniform instead.\n",
            "\n",
            "WARNING:tensorflow:From /usr/local/lib/python3.6/dist-packages/keras/backend/tensorflow_backend.py:190: The name tf.get_default_session is deprecated. Please use tf.compat.v1.get_default_session instead.\n",
            "\n",
            "WARNING:tensorflow:From /usr/local/lib/python3.6/dist-packages/keras/backend/tensorflow_backend.py:197: The name tf.ConfigProto is deprecated. Please use tf.compat.v1.ConfigProto instead.\n",
            "\n",
            "WARNING:tensorflow:From /usr/local/lib/python3.6/dist-packages/keras/backend/tensorflow_backend.py:203: The name tf.Session is deprecated. Please use tf.compat.v1.Session instead.\n",
            "\n",
            "WARNING:tensorflow:From /usr/local/lib/python3.6/dist-packages/keras/backend/tensorflow_backend.py:207: The name tf.global_variables is deprecated. Please use tf.compat.v1.global_variables instead.\n",
            "\n",
            "WARNING:tensorflow:From /usr/local/lib/python3.6/dist-packages/keras/backend/tensorflow_backend.py:216: The name tf.is_variable_initialized is deprecated. Please use tf.compat.v1.is_variable_initialized instead.\n",
            "\n",
            "WARNING:tensorflow:From /usr/local/lib/python3.6/dist-packages/keras/backend/tensorflow_backend.py:223: The name tf.variables_initializer is deprecated. Please use tf.compat.v1.variables_initializer instead.\n",
            "\n"
          ],
          "name": "stdout"
        }
      ]
    },
    {
      "cell_type": "code",
      "metadata": {
        "id": "mSeUZuZxgu-0",
        "colab_type": "code",
        "colab": {}
      },
      "source": [
        "#decoded = Dropout(0.5)(decoded)\n",
        "decoded = Dense(y_train.shape[1], activation='softmax')(decoded)\n",
        "\n",
        "sequence_autoencoder = Model(inputs, decoded)\n",
        "\n",
        "encoder = Model(inputs, encoded)"
      ],
      "execution_count": 0,
      "outputs": []
    },
    {
      "cell_type": "code",
      "metadata": {
        "id": "BSKZUAojg4YG",
        "colab_type": "code",
        "outputId": "3881cb51-7539-4d15-dbe9-90909f324a88",
        "colab": {
          "base_uri": "https://localhost:8080/",
          "height": 353
        }
      },
      "source": [
        "sequence_autoencoder.summary()"
      ],
      "execution_count": 0,
      "outputs": [
        {
          "output_type": "stream",
          "text": [
            "Model: \"model_1\"\n",
            "_________________________________________________________________\n",
            "Layer (type)                 Output Shape              Param #   \n",
            "=================================================================\n",
            "input_1 (InputLayer)         (None, 1291)              0         \n",
            "_________________________________________________________________\n",
            "embedding_1 (Embedding)      (None, 1291, 300)         30676500  \n",
            "_________________________________________________________________\n",
            "lstm_1 (LSTM)                (None, 100)               160400    \n",
            "_________________________________________________________________\n",
            "repeat_vector_1 (RepeatVecto (None, 1291, 100)         0         \n",
            "_________________________________________________________________\n",
            "lstm_2 (LSTM)                (None, 50)                30200     \n",
            "_________________________________________________________________\n",
            "dense_1 (Dense)              (None, 102255)            5215005   \n",
            "=================================================================\n",
            "Total params: 36,082,105\n",
            "Trainable params: 5,405,605\n",
            "Non-trainable params: 30,676,500\n",
            "_________________________________________________________________\n"
          ],
          "name": "stdout"
        }
      ]
    },
    {
      "cell_type": "code",
      "metadata": {
        "id": "u1j3KZvDar77",
        "colab_type": "code",
        "outputId": "8b8fc30e-fe9b-4569-8703-27302f3176a6",
        "colab": {
          "base_uri": "https://localhost:8080/",
          "height": 252
        }
      },
      "source": [
        "encoder.summary()"
      ],
      "execution_count": 0,
      "outputs": [
        {
          "output_type": "stream",
          "text": [
            "Model: \"model_2\"\n",
            "_________________________________________________________________\n",
            "Layer (type)                 Output Shape              Param #   \n",
            "=================================================================\n",
            "input_1 (InputLayer)         (None, 1291)              0         \n",
            "_________________________________________________________________\n",
            "embedding_1 (Embedding)      (None, 1291, 300)         30676500  \n",
            "_________________________________________________________________\n",
            "lstm_1 (LSTM)                (None, 100)               160400    \n",
            "=================================================================\n",
            "Total params: 30,836,900\n",
            "Trainable params: 160,400\n",
            "Non-trainable params: 30,676,500\n",
            "_________________________________________________________________\n"
          ],
          "name": "stdout"
        }
      ]
    },
    {
      "cell_type": "code",
      "metadata": {
        "id": "RY_ZC8Lsg2Mi",
        "colab_type": "code",
        "outputId": "6bfd1161-2393-46d7-ce21-ffd306070fbc",
        "colab": {
          "base_uri": "https://localhost:8080/",
          "height": 370
        }
      },
      "source": [
        "sequence_autoencoder.compile(optimizer='rmsprop', loss='categorical_crossentropy')\n",
        "\n",
        "sequence_autoencoder.fit(x_train, y_train,\n",
        "                          nb_epoch=10,\n",
        "                          batch_size=256,\n",
        "                          shuffle=True)\n",
        "                          #metrics=['acc'])\n",
        "                          #validation_data=(x_train, y_train))"
      ],
      "execution_count": 0,
      "outputs": [
        {
          "output_type": "stream",
          "text": [
            "Epoch 1/10\n",
            "18573/18573 [==============================] - 336s 18ms/step - loss: 793.8705\n",
            "Epoch 2/10\n",
            "18573/18573 [==============================] - 337s 18ms/step - loss: 758.8296\n",
            "Epoch 3/10\n",
            "18573/18573 [==============================] - 338s 18ms/step - loss: 755.6072\n",
            "Epoch 4/10\n",
            "18573/18573 [==============================] - 333s 18ms/step - loss: 752.1172\n",
            "Epoch 5/10\n",
            "18573/18573 [==============================] - 335s 18ms/step - loss: 749.7942\n",
            "Epoch 6/10\n",
            "18573/18573 [==============================] - 338s 18ms/step - loss: 747.7734\n",
            "Epoch 7/10\n",
            "18573/18573 [==============================] - 336s 18ms/step - loss: 746.0942\n",
            "Epoch 8/10\n",
            "18573/18573 [==============================] - 334s 18ms/step - loss: 744.3215\n",
            "Epoch 9/10\n",
            "18573/18573 [==============================] - 335s 18ms/step - loss: 742.8743\n",
            "Epoch 10/10\n",
            "18573/18573 [==============================] - 335s 18ms/step - loss: 741.6840\n"
          ],
          "name": "stdout"
        },
        {
          "output_type": "execute_result",
          "data": {
            "text/plain": [
              "<keras.callbacks.History at 0x7fd5d9bfc5c0>"
            ]
          },
          "metadata": {
            "tags": []
          },
          "execution_count": 23
        }
      ]
    },
    {
      "cell_type": "code",
      "metadata": {
        "id": "STo0jRKg9lPb",
        "colab_type": "code",
        "colab": {}
      },
      "source": [
        "sequence_autoencoder.save(\"sequence_autoencoder.hdf5\")"
      ],
      "execution_count": 0,
      "outputs": []
    },
    {
      "cell_type": "code",
      "metadata": {
        "id": "SgOCxZxCa2yF",
        "colab_type": "code",
        "colab": {}
      },
      "source": [
        "sequence_1 = data.description[1]\n",
        "sequence_2 = data.description[2]\n",
        "x_1 = pad_sequences(tokenizer.texts_to_sequences(sequence_1),maxlen=len(x_train[0]))\n",
        "x_2 = pad_sequences(tokenizer.texts_to_sequences(sequence_2),maxlen=len(x_train[0]))"
      ],
      "execution_count": 0,
      "outputs": []
    },
    {
      "cell_type": "code",
      "metadata": {
        "id": "IY7JsqRMbLe9",
        "colab_type": "code",
        "outputId": "514149f4-255c-4eca-e8b4-2036f87774c6",
        "colab": {
          "base_uri": "https://localhost:8080/",
          "height": 50
        }
      },
      "source": [
        "from time import time\n",
        "start = time()\n",
        "predicted_1 = np.mean(sequence_autoencoder.predict(x_1),axis=0)\n",
        "print(\"time taken\" ,time()-start)\n",
        "start = time()\n",
        "predicted_2 = np.mean(sequence_autoencoder.predict(x_2),axis=0)\n",
        "print(\"time taken\" ,time()-start)"
      ],
      "execution_count": 0,
      "outputs": [
        {
          "output_type": "stream",
          "text": [
            "time taken 20.481218338012695\n",
            "time taken 7.951452732086182\n"
          ],
          "name": "stdout"
        }
      ]
    },
    {
      "cell_type": "code",
      "metadata": {
        "id": "vzOyBzuom2G_",
        "colab_type": "code",
        "outputId": "0e0f46b0-f913-46ef-ccb3-60de7d47c829",
        "colab": {
          "base_uri": "https://localhost:8080/",
          "height": 50
        }
      },
      "source": [
        "from scipy.spatial.distance import cosine,euclidean\n",
        "print(cosine(x_1[0],x_2[0]))\n",
        "print(cosine(predicted_1,predicted_2))"
      ],
      "execution_count": 0,
      "outputs": [
        {
          "output_type": "stream",
          "text": [
            "0.0\n",
            "3.3974647521972656e-06\n"
          ],
          "name": "stdout"
        }
      ]
    },
    {
      "cell_type": "code",
      "metadata": {
        "id": "KYvm0cEZnrv0",
        "colab_type": "code",
        "outputId": "d7c31863-2127-4fc3-891e-013014d10e4c",
        "colab": {
          "base_uri": "https://localhost:8080/",
          "height": 34
        }
      },
      "source": [
        "euclidean(x_1[0],x_2[0])"
      ],
      "execution_count": 0,
      "outputs": [
        {
          "output_type": "execute_result",
          "data": {
            "text/plain": [
              "1772.0"
            ]
          },
          "metadata": {
            "tags": []
          },
          "execution_count": 64
        }
      ]
    },
    {
      "cell_type": "code",
      "metadata": {
        "id": "J90aXfZ1op5v",
        "colab_type": "code",
        "outputId": "d0d4c702-8892-4214-eacc-a064c95ade9e",
        "colab": {
          "base_uri": "https://localhost:8080/",
          "height": 54
        }
      },
      "source": [
        "sequence_1"
      ],
      "execution_count": 0,
      "outputs": [
        {
          "output_type": "execute_result",
          "data": {
            "text/plain": [
              "'Historians and inquisitive laymen alike love to ponder the dramatic what-its of history. In these twenty never-before-published essays, some of the keenest minds of our time ask the big, tantalizing questions: Where might we be if history had not unfolded the way it did?  Why, how, and when was our fortune made real? The answers are surprising, sometimes frightening, and always entertaining..'"
            ]
          },
          "metadata": {
            "tags": []
          },
          "execution_count": 65
        }
      ]
    },
    {
      "cell_type": "code",
      "metadata": {
        "id": "RpHWr2uAvQbC",
        "colab_type": "code",
        "outputId": "00501b30-07b6-4a32-ddec-35c9c3b9591d",
        "colab": {
          "base_uri": "https://localhost:8080/",
          "height": 54
        }
      },
      "source": [
        "sequence_2"
      ],
      "execution_count": 0,
      "outputs": [
        {
          "output_type": "execute_result",
          "data": {
            "text/plain": [
              "\"A former cop, now an attorney, falls into danger when he tries to find a fellow attorney who's absconded with millions from a settlement fund. 4 cassettes.\""
            ]
          },
          "metadata": {
            "tags": []
          },
          "execution_count": 66
        }
      ]
    },
    {
      "cell_type": "code",
      "metadata": {
        "id": "2jwOsOUTvgip",
        "colab_type": "code",
        "outputId": "dca722ea-4792-47b7-fb93-fe7bcfba6780",
        "colab": {
          "base_uri": "https://localhost:8080/",
          "height": 34
        }
      },
      "source": [
        "x_train[1]"
      ],
      "execution_count": 0,
      "outputs": [
        {
          "output_type": "execute_result",
          "data": {
            "text/plain": [
              "array([   0,    0,    0, ...,    2,  249, 1177], dtype=int32)"
            ]
          },
          "metadata": {
            "tags": []
          },
          "execution_count": 70
        }
      ]
    },
    {
      "cell_type": "markdown",
      "metadata": {
        "id": "HqZj3oYkyhGr",
        "colab_type": "text"
      },
      "source": [
        "# Document Similarity using Embeddings"
      ]
    },
    {
      "cell_type": "code",
      "metadata": {
        "id": "IGUcBvYCyoBK",
        "colab_type": "code",
        "colab": {}
      },
      "source": [
        ""
      ],
      "execution_count": 0,
      "outputs": []
    }
  ]
}